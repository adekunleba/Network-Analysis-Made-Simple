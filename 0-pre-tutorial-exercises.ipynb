{
  "nbformat": 4,
  "nbformat_minor": 0,
  "metadata": {
    "colab": {
      "name": "0-pre-tutorial-exercises.ipynb",
      "version": "0.3.2",
      "provenance": [],
      "include_colab_link": true
    },
    "language_info": {
      "codemirror_mode": {
        "name": "ipython",
        "version": 3
      },
      "file_extension": ".py",
      "mimetype": "text/x-python",
      "name": "python",
      "nbconvert_exporter": "python",
      "pygments_lexer": "ipython3",
      "version": "3.6.5"
    },
    "kernelspec": {
      "display_name": "Python 3",
      "language": "python",
      "name": "python3"
    }
  },
  "cells": [
    {
      "cell_type": "markdown",
      "metadata": {
        "id": "view-in-github",
        "colab_type": "text"
      },
      "source": [
        "<a href=\"https://colab.research.google.com/github/adekunleba/Network-Analysis-Made-Simple/blob/master/0-pre-tutorial-exercises.ipynb\" target=\"_parent\"><img src=\"https://colab.research.google.com/assets/colab-badge.svg\" alt=\"Open In Colab\"/></a>"
      ]
    },
    {
      "cell_type": "markdown",
      "metadata": {
        "id": "NFMIw6qo1ErR",
        "colab_type": "text"
      },
      "source": [
        "# Pre-Tutorial Exercises\n",
        "\n",
        "If you've arrived early for the tutorial, please feel free to attempt the following exercises to warm-up."
      ]
    },
    {
      "cell_type": "code",
      "metadata": {
        "ExecuteTime": {
          "end_time": "2017-07-08T12:07:28.341024-04:00",
          "start_time": "2017-07-08T12:07:28.328856Z"
        },
        "id": "4jeYYiXZ1ErU",
        "colab_type": "code",
        "colab": {}
      },
      "source": [
        "# 1. Basic Python data structures\n",
        "# I have a list of dictionaries as such:\n",
        "\n",
        "names = [{'name': 'Eric',\n",
        "          'surname': 'Ma'},\n",
        "         {'name': 'Jeffrey',\n",
        "          'surname': 'Elmer'},\n",
        "         {'name': 'Mike',\n",
        "          'surname': 'Lee'},\n",
        "         {'name': 'Jennifer',\n",
        "          'surname': 'Elmer'}]\n",
        "\n",
        "# Write a function that takes in a list of dictionaries and a query surname, \n",
        "# and searches it for all individuals with a given surname.\n",
        "\n",
        "def find_persons_with_surname(persons, query_surname):\n",
        "    # Assert that the persons parameter is a list. \n",
        "    # This is a good defensive programming practice.\n",
        "    assert isinstance(persons, list)   \n",
        "    \n",
        "    results = []\n",
        "    for data in persons:\n",
        "        if data[\"surname\"] == query_surname:\n",
        "            results.append(data)\n",
        "    \n",
        "    return results"
      ],
      "execution_count": 0,
      "outputs": []
    },
    {
      "cell_type": "code",
      "metadata": {
        "ExecuteTime": {
          "end_time": "2017-07-08T12:07:28.468914-04:00",
          "start_time": "2017-07-08T12:07:28.343869Z"
        },
        "id": "DFRulPvf1ErY",
        "colab_type": "code",
        "colab": {}
      },
      "source": [
        "# Test your result below.\n",
        "results = find_persons_with_surname(names, 'Lee')\n",
        "assert len(results) == 1\n",
        "\n",
        "results = find_persons_with_surname(names, 'Elmer')\n",
        "assert len(results) == 2"
      ],
      "execution_count": 0,
      "outputs": []
    },
    {
      "cell_type": "code",
      "metadata": {
        "id": "NhYURI4g1Erd",
        "colab_type": "code",
        "colab": {}
      },
      "source": [
        ""
      ],
      "execution_count": 0,
      "outputs": []
    }
  ]
}